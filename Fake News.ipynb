{
 "cells": [
  {
   "cell_type": "markdown",
   "id": "4d3ad9ec-2499-4011-8627-c185180f87c7",
   "metadata": {},
   "source": [
    "# Fake News Prediction using Machine Learning"
   ]
  },
  {
   "cell_type": "markdown",
   "id": "d6f50abf-5890-4262-a13e-9c8f2788d130",
   "metadata": {},
   "source": [
    "## Downloading and Exploring a Kaggle Dataset"
   ]
  },
  {
   "cell_type": "code",
   "execution_count": 1,
   "id": "8ebba08c-dd9c-4488-af1b-3add033ac339",
   "metadata": {},
   "outputs": [],
   "source": [
    "import opendatasets as od"
   ]
  },
  {
   "cell_type": "code",
   "execution_count": 2,
   "id": "1196c0ec-110e-44a0-8966-f6abf0b5c8c8",
   "metadata": {},
   "outputs": [],
   "source": [
    "dataset=\"https://www.kaggle.com/datasets/saurabhshahane/fake-news-classification\""
   ]
  },
  {
   "cell_type": "code",
   "execution_count": 3,
   "id": "3b2fe3ef-8953-41a2-a79e-050acf754504",
   "metadata": {},
   "outputs": [
    {
     "name": "stdout",
     "output_type": "stream",
     "text": [
      "Skipping, found downloaded files in \".\\fake-news-classification\" (use force=True to force download)\n"
     ]
    }
   ],
   "source": [
    "od.download(dataset)"
   ]
  },
  {
   "cell_type": "code",
   "execution_count": 4,
   "id": "9658713f-f381-45de-91f6-03264087dec1",
   "metadata": {},
   "outputs": [],
   "source": [
    "import os"
   ]
  },
  {
   "cell_type": "code",
   "execution_count": 5,
   "id": "31eda90a-db95-4c3b-94c0-9d61a4a6ba8b",
   "metadata": {},
   "outputs": [],
   "source": [
    "data=\"fake-news-classification\""
   ]
  },
  {
   "cell_type": "code",
   "execution_count": 6,
   "id": "873c6222-8895-48cb-8414-f03dcf9241bd",
   "metadata": {},
   "outputs": [
    {
     "data": {
      "text/plain": [
       "['.ipynb_checkpoints', 'WELFake_Dataset.csv']"
      ]
     },
     "execution_count": 6,
     "metadata": {},
     "output_type": "execute_result"
    }
   ],
   "source": [
    "os.listdir(data)"
   ]
  },
  {
   "cell_type": "markdown",
   "id": "48f10917-0057-4a58-8080-7070facc3b4b",
   "metadata": {},
   "source": [
    "## Required Libraries For Fake News Prediction Model"
   ]
  },
  {
   "cell_type": "code",
   "execution_count": 7,
   "id": "c515c846-b29b-442c-b02f-9769344385f5",
   "metadata": {},
   "outputs": [],
   "source": [
    "import numpy as np \n",
    "import pandas as pd\n",
    "# re=regular expression, it is used for finding a text in a paragraph or a document\n",
    "import re\n",
    "# nltk= natural language tool kit, which is used find stopwords like (is,an,the,me,myself....)\n",
    "from nltk.corpus import stopwords\n",
    "# porterStemmer which is used to find the rootword like (actress,actor,acting - act) reducing a word to rootword\n",
    "from nltk.stem.porter import PorterStemmer\n",
    "# TfidfVectorizer is used for converting Text to numeric.Tf is for calculating (n/N) which tell you most repeated words to detect\n",
    "# Idf is for log(N/n) which gives the more value for less repeated words\n",
    "from sklearn.feature_extraction.text import TfidfVectorizer\n",
    "# which is used to split the data in train and test\n",
    "from sklearn.model_selection import train_test_split\n",
    "from sklearn.linear_model import LogisticRegression\n",
    "# to find the accuracy score\n",
    "from sklearn.metrics import accuracy_score"
   ]
  },
  {
   "cell_type": "markdown",
   "id": "eb0cb5af-be97-4643-9e45-79f78423fbf1",
   "metadata": {},
   "source": [
    "## Data Loading and Preprocessing"
   ]
  },
  {
   "cell_type": "code",
   "execution_count": 8,
   "id": "69d36646-b203-4bf6-87d5-e326e3638852",
   "metadata": {},
   "outputs": [],
   "source": [
    "df= pd.read_csv(\"fake-news-classification/WELFake_Dataset.csv\")"
   ]
  },
  {
   "cell_type": "code",
   "execution_count": 9,
   "id": "951665bb-1ef1-45e3-b721-d820c53adfab",
   "metadata": {},
   "outputs": [
    {
     "data": {
      "text/html": [
       "<div>\n",
       "<style scoped>\n",
       "    .dataframe tbody tr th:only-of-type {\n",
       "        vertical-align: middle;\n",
       "    }\n",
       "\n",
       "    .dataframe tbody tr th {\n",
       "        vertical-align: top;\n",
       "    }\n",
       "\n",
       "    .dataframe thead th {\n",
       "        text-align: right;\n",
       "    }\n",
       "</style>\n",
       "<table border=\"1\" class=\"dataframe\">\n",
       "  <thead>\n",
       "    <tr style=\"text-align: right;\">\n",
       "      <th></th>\n",
       "      <th>Unnamed: 0</th>\n",
       "      <th>title</th>\n",
       "      <th>text</th>\n",
       "      <th>label</th>\n",
       "    </tr>\n",
       "  </thead>\n",
       "  <tbody>\n",
       "    <tr>\n",
       "      <th>0</th>\n",
       "      <td>0</td>\n",
       "      <td>LAW ENFORCEMENT ON HIGH ALERT Following Threat...</td>\n",
       "      <td>No comment is expected from Barack Obama Membe...</td>\n",
       "      <td>1</td>\n",
       "    </tr>\n",
       "    <tr>\n",
       "      <th>1</th>\n",
       "      <td>1</td>\n",
       "      <td>NaN</td>\n",
       "      <td>Did they post their votes for Hillary already?</td>\n",
       "      <td>1</td>\n",
       "    </tr>\n",
       "    <tr>\n",
       "      <th>2</th>\n",
       "      <td>2</td>\n",
       "      <td>UNBELIEVABLE! OBAMA’S ATTORNEY GENERAL SAYS MO...</td>\n",
       "      <td>Now, most of the demonstrators gathered last ...</td>\n",
       "      <td>1</td>\n",
       "    </tr>\n",
       "    <tr>\n",
       "      <th>3</th>\n",
       "      <td>3</td>\n",
       "      <td>Bobby Jindal, raised Hindu, uses story of Chri...</td>\n",
       "      <td>A dozen politically active pastors came here f...</td>\n",
       "      <td>0</td>\n",
       "    </tr>\n",
       "    <tr>\n",
       "      <th>4</th>\n",
       "      <td>4</td>\n",
       "      <td>SATAN 2: Russia unvelis an image of its terrif...</td>\n",
       "      <td>The RS-28 Sarmat missile, dubbed Satan 2, will...</td>\n",
       "      <td>1</td>\n",
       "    </tr>\n",
       "  </tbody>\n",
       "</table>\n",
       "</div>"
      ],
      "text/plain": [
       "   Unnamed: 0                                              title  \\\n",
       "0           0  LAW ENFORCEMENT ON HIGH ALERT Following Threat...   \n",
       "1           1                                                NaN   \n",
       "2           2  UNBELIEVABLE! OBAMA’S ATTORNEY GENERAL SAYS MO...   \n",
       "3           3  Bobby Jindal, raised Hindu, uses story of Chri...   \n",
       "4           4  SATAN 2: Russia unvelis an image of its terrif...   \n",
       "\n",
       "                                                text  label  \n",
       "0  No comment is expected from Barack Obama Membe...      1  \n",
       "1     Did they post their votes for Hillary already?      1  \n",
       "2   Now, most of the demonstrators gathered last ...      1  \n",
       "3  A dozen politically active pastors came here f...      0  \n",
       "4  The RS-28 Sarmat missile, dubbed Satan 2, will...      1  "
      ]
     },
     "execution_count": 9,
     "metadata": {},
     "output_type": "execute_result"
    }
   ],
   "source": [
    "df.head()"
   ]
  },
  {
   "cell_type": "code",
   "execution_count": 10,
   "id": "3f37fbc7-c76e-40f0-a6dc-19baf88daf31",
   "metadata": {},
   "outputs": [
    {
     "data": {
      "text/html": [
       "<div>\n",
       "<style scoped>\n",
       "    .dataframe tbody tr th:only-of-type {\n",
       "        vertical-align: middle;\n",
       "    }\n",
       "\n",
       "    .dataframe tbody tr th {\n",
       "        vertical-align: top;\n",
       "    }\n",
       "\n",
       "    .dataframe thead th {\n",
       "        text-align: right;\n",
       "    }\n",
       "</style>\n",
       "<table border=\"1\" class=\"dataframe\">\n",
       "  <thead>\n",
       "    <tr style=\"text-align: right;\">\n",
       "      <th></th>\n",
       "      <th>title</th>\n",
       "      <th>text</th>\n",
       "      <th>label</th>\n",
       "    </tr>\n",
       "  </thead>\n",
       "  <tbody>\n",
       "    <tr>\n",
       "      <th>0</th>\n",
       "      <td>LAW ENFORCEMENT ON HIGH ALERT Following Threat...</td>\n",
       "      <td>No comment is expected from Barack Obama Membe...</td>\n",
       "      <td>1</td>\n",
       "    </tr>\n",
       "    <tr>\n",
       "      <th>1</th>\n",
       "      <td>NaN</td>\n",
       "      <td>Did they post their votes for Hillary already?</td>\n",
       "      <td>1</td>\n",
       "    </tr>\n",
       "    <tr>\n",
       "      <th>2</th>\n",
       "      <td>UNBELIEVABLE! OBAMA’S ATTORNEY GENERAL SAYS MO...</td>\n",
       "      <td>Now, most of the demonstrators gathered last ...</td>\n",
       "      <td>1</td>\n",
       "    </tr>\n",
       "    <tr>\n",
       "      <th>3</th>\n",
       "      <td>Bobby Jindal, raised Hindu, uses story of Chri...</td>\n",
       "      <td>A dozen politically active pastors came here f...</td>\n",
       "      <td>0</td>\n",
       "    </tr>\n",
       "    <tr>\n",
       "      <th>4</th>\n",
       "      <td>SATAN 2: Russia unvelis an image of its terrif...</td>\n",
       "      <td>The RS-28 Sarmat missile, dubbed Satan 2, will...</td>\n",
       "      <td>1</td>\n",
       "    </tr>\n",
       "    <tr>\n",
       "      <th>...</th>\n",
       "      <td>...</td>\n",
       "      <td>...</td>\n",
       "      <td>...</td>\n",
       "    </tr>\n",
       "    <tr>\n",
       "      <th>72129</th>\n",
       "      <td>Russians steal research on Trump in hack of U....</td>\n",
       "      <td>WASHINGTON (Reuters) - Hackers believed to be ...</td>\n",
       "      <td>0</td>\n",
       "    </tr>\n",
       "    <tr>\n",
       "      <th>72130</th>\n",
       "      <td>WATCH: Giuliani Demands That Democrats Apolog...</td>\n",
       "      <td>You know, because in fantasyland Republicans n...</td>\n",
       "      <td>1</td>\n",
       "    </tr>\n",
       "    <tr>\n",
       "      <th>72131</th>\n",
       "      <td>Migrants Refuse To Leave Train At Refugee Camp...</td>\n",
       "      <td>Migrants Refuse To Leave Train At Refugee Camp...</td>\n",
       "      <td>0</td>\n",
       "    </tr>\n",
       "    <tr>\n",
       "      <th>72132</th>\n",
       "      <td>Trump tussle gives unpopular Mexican leader mu...</td>\n",
       "      <td>MEXICO CITY (Reuters) - Donald Trump’s combati...</td>\n",
       "      <td>0</td>\n",
       "    </tr>\n",
       "    <tr>\n",
       "      <th>72133</th>\n",
       "      <td>Goldman Sachs Endorses Hillary Clinton For Pre...</td>\n",
       "      <td>Goldman Sachs Endorses Hillary Clinton For Pre...</td>\n",
       "      <td>1</td>\n",
       "    </tr>\n",
       "  </tbody>\n",
       "</table>\n",
       "<p>72134 rows × 3 columns</p>\n",
       "</div>"
      ],
      "text/plain": [
       "                                                   title  \\\n",
       "0      LAW ENFORCEMENT ON HIGH ALERT Following Threat...   \n",
       "1                                                    NaN   \n",
       "2      UNBELIEVABLE! OBAMA’S ATTORNEY GENERAL SAYS MO...   \n",
       "3      Bobby Jindal, raised Hindu, uses story of Chri...   \n",
       "4      SATAN 2: Russia unvelis an image of its terrif...   \n",
       "...                                                  ...   \n",
       "72129  Russians steal research on Trump in hack of U....   \n",
       "72130   WATCH: Giuliani Demands That Democrats Apolog...   \n",
       "72131  Migrants Refuse To Leave Train At Refugee Camp...   \n",
       "72132  Trump tussle gives unpopular Mexican leader mu...   \n",
       "72133  Goldman Sachs Endorses Hillary Clinton For Pre...   \n",
       "\n",
       "                                                    text  label  \n",
       "0      No comment is expected from Barack Obama Membe...      1  \n",
       "1         Did they post their votes for Hillary already?      1  \n",
       "2       Now, most of the demonstrators gathered last ...      1  \n",
       "3      A dozen politically active pastors came here f...      0  \n",
       "4      The RS-28 Sarmat missile, dubbed Satan 2, will...      1  \n",
       "...                                                  ...    ...  \n",
       "72129  WASHINGTON (Reuters) - Hackers believed to be ...      0  \n",
       "72130  You know, because in fantasyland Republicans n...      1  \n",
       "72131  Migrants Refuse To Leave Train At Refugee Camp...      0  \n",
       "72132  MEXICO CITY (Reuters) - Donald Trump’s combati...      0  \n",
       "72133  Goldman Sachs Endorses Hillary Clinton For Pre...      1  \n",
       "\n",
       "[72134 rows x 3 columns]"
      ]
     },
     "execution_count": 10,
     "metadata": {},
     "output_type": "execute_result"
    }
   ],
   "source": [
    "df.drop(\"Unnamed: 0\",axis=1)"
   ]
  },
  {
   "cell_type": "code",
   "execution_count": 11,
   "id": "079e17b6-452d-4386-849c-04af37113a4b",
   "metadata": {},
   "outputs": [
    {
     "data": {
      "text/plain": [
       "(72134, 4)"
      ]
     },
     "execution_count": 11,
     "metadata": {},
     "output_type": "execute_result"
    }
   ],
   "source": [
    "df.shape"
   ]
  },
  {
   "cell_type": "code",
   "execution_count": 12,
   "id": "00846a5b-ac10-451c-b2ee-0e7e9f1fa0d2",
   "metadata": {},
   "outputs": [
    {
     "data": {
      "text/plain": [
       "Unnamed: 0      0\n",
       "title         558\n",
       "text           39\n",
       "label           0\n",
       "dtype: int64"
      ]
     },
     "execution_count": 12,
     "metadata": {},
     "output_type": "execute_result"
    }
   ],
   "source": [
    "df.isnull().sum()"
   ]
  },
  {
   "cell_type": "code",
   "execution_count": 13,
   "id": "392d3179-8013-4e47-851e-b9a46b05717a",
   "metadata": {},
   "outputs": [
    {
     "data": {
      "text/html": [
       "<div>\n",
       "<style scoped>\n",
       "    .dataframe tbody tr th:only-of-type {\n",
       "        vertical-align: middle;\n",
       "    }\n",
       "\n",
       "    .dataframe tbody tr th {\n",
       "        vertical-align: top;\n",
       "    }\n",
       "\n",
       "    .dataframe thead th {\n",
       "        text-align: right;\n",
       "    }\n",
       "</style>\n",
       "<table border=\"1\" class=\"dataframe\">\n",
       "  <thead>\n",
       "    <tr style=\"text-align: right;\">\n",
       "      <th></th>\n",
       "      <th>Unnamed: 0</th>\n",
       "      <th>title</th>\n",
       "      <th>text</th>\n",
       "      <th>label</th>\n",
       "    </tr>\n",
       "  </thead>\n",
       "  <tbody>\n",
       "    <tr>\n",
       "      <th>1</th>\n",
       "      <td>1</td>\n",
       "      <td>NaN</td>\n",
       "      <td>Did they post their votes for Hillary already?</td>\n",
       "      <td>1</td>\n",
       "    </tr>\n",
       "    <tr>\n",
       "      <th>43</th>\n",
       "      <td>43</td>\n",
       "      <td>NaN</td>\n",
       "      <td>True. Hillary needs a distraction and what bet...</td>\n",
       "      <td>1</td>\n",
       "    </tr>\n",
       "    <tr>\n",
       "      <th>162</th>\n",
       "      <td>162</td>\n",
       "      <td>NaN</td>\n",
       "      <td>All eyes on Electoral delegates. The People kn...</td>\n",
       "      <td>1</td>\n",
       "    </tr>\n",
       "    <tr>\n",
       "      <th>185</th>\n",
       "      <td>185</td>\n",
       "      <td>NaN</td>\n",
       "      <td>Cool</td>\n",
       "      <td>1</td>\n",
       "    </tr>\n",
       "    <tr>\n",
       "      <th>269</th>\n",
       "      <td>269</td>\n",
       "      <td>NaN</td>\n",
       "      <td>A leading US senator: US Supporting War in Syr...</td>\n",
       "      <td>1</td>\n",
       "    </tr>\n",
       "    <tr>\n",
       "      <th>...</th>\n",
       "      <td>...</td>\n",
       "      <td>...</td>\n",
       "      <td>...</td>\n",
       "      <td>...</td>\n",
       "    </tr>\n",
       "    <tr>\n",
       "      <th>71484</th>\n",
       "      <td>71484</td>\n",
       "      <td>NaN</td>\n",
       "      <td>Another Arab supremacist masturbation fantasy....</td>\n",
       "      <td>1</td>\n",
       "    </tr>\n",
       "    <tr>\n",
       "      <th>71521</th>\n",
       "      <td>71521</td>\n",
       "      <td>NaN</td>\n",
       "      <td>I'm sure they drastically changed accounting m...</td>\n",
       "      <td>1</td>\n",
       "    </tr>\n",
       "    <tr>\n",
       "      <th>71540</th>\n",
       "      <td>71540</td>\n",
       "      <td>NaN</td>\n",
       "      <td>It's easy to imagine Obama or Kerry pissing hi...</td>\n",
       "      <td>1</td>\n",
       "    </tr>\n",
       "    <tr>\n",
       "      <th>71570</th>\n",
       "      <td>71570</td>\n",
       "      <td>NaN</td>\n",
       "      <td>Ever since the powers to be assassinated JFK A...</td>\n",
       "      <td>1</td>\n",
       "    </tr>\n",
       "    <tr>\n",
       "      <th>71734</th>\n",
       "      <td>71734</td>\n",
       "      <td>NaN</td>\n",
       "      <td>Hmm, free college, now that's an idea.</td>\n",
       "      <td>1</td>\n",
       "    </tr>\n",
       "  </tbody>\n",
       "</table>\n",
       "<p>597 rows × 4 columns</p>\n",
       "</div>"
      ],
      "text/plain": [
       "       Unnamed: 0 title                                               text  \\\n",
       "1               1   NaN     Did they post their votes for Hillary already?   \n",
       "43             43   NaN  True. Hillary needs a distraction and what bet...   \n",
       "162           162   NaN  All eyes on Electoral delegates. The People kn...   \n",
       "185           185   NaN                                               Cool   \n",
       "269           269   NaN  A leading US senator: US Supporting War in Syr...   \n",
       "...           ...   ...                                                ...   \n",
       "71484       71484   NaN  Another Arab supremacist masturbation fantasy....   \n",
       "71521       71521   NaN  I'm sure they drastically changed accounting m...   \n",
       "71540       71540   NaN  It's easy to imagine Obama or Kerry pissing hi...   \n",
       "71570       71570   NaN  Ever since the powers to be assassinated JFK A...   \n",
       "71734       71734   NaN             Hmm, free college, now that's an idea.   \n",
       "\n",
       "       label  \n",
       "1          1  \n",
       "43         1  \n",
       "162        1  \n",
       "185        1  \n",
       "269        1  \n",
       "...      ...  \n",
       "71484      1  \n",
       "71521      1  \n",
       "71540      1  \n",
       "71570      1  \n",
       "71734      1  \n",
       "\n",
       "[597 rows x 4 columns]"
      ]
     },
     "execution_count": 13,
     "metadata": {},
     "output_type": "execute_result"
    }
   ],
   "source": [
    "df[df.isnull().any(axis=1)]"
   ]
  },
  {
   "cell_type": "code",
   "execution_count": 14,
   "id": "eb37af4e-614a-46ef-9a87-b9d83dc63851",
   "metadata": {},
   "outputs": [],
   "source": [
    "df.fillna(\" \",inplace=True)"
   ]
  },
  {
   "cell_type": "code",
   "execution_count": 15,
   "id": "e5e1ade0-17dc-4f3d-a1ad-dbf425c42775",
   "metadata": {},
   "outputs": [
    {
     "data": {
      "text/plain": [
       "Unnamed: 0    0\n",
       "title         0\n",
       "text          0\n",
       "label         0\n",
       "dtype: int64"
      ]
     },
     "execution_count": 15,
     "metadata": {},
     "output_type": "execute_result"
    }
   ],
   "source": [
    "df.isnull().sum()"
   ]
  },
  {
   "cell_type": "code",
   "execution_count": 16,
   "id": "22cc51b1-016b-4f25-a2cf-145e5075bd0e",
   "metadata": {},
   "outputs": [],
   "source": [
    "content=df[\"title\"]+\" \"+df[\"text\"]"
   ]
  },
  {
   "cell_type": "code",
   "execution_count": 17,
   "id": "5505b7c6-56da-4d27-84be-de26f195cbaf",
   "metadata": {},
   "outputs": [
    {
     "data": {
      "text/plain": [
       "0        LAW ENFORCEMENT ON HIGH ALERT Following Threat...\n",
       "1           Did they post their votes for Hillary already?\n",
       "2        UNBELIEVABLE! OBAMA’S ATTORNEY GENERAL SAYS MO...\n",
       "3        Bobby Jindal, raised Hindu, uses story of Chri...\n",
       "4        SATAN 2: Russia unvelis an image of its terrif...\n",
       "                               ...                        \n",
       "72129    Russians steal research on Trump in hack of U....\n",
       "72130     WATCH: Giuliani Demands That Democrats Apolog...\n",
       "72131    Migrants Refuse To Leave Train At Refugee Camp...\n",
       "72132    Trump tussle gives unpopular Mexican leader mu...\n",
       "72133    Goldman Sachs Endorses Hillary Clinton For Pre...\n",
       "Length: 72134, dtype: object"
      ]
     },
     "execution_count": 17,
     "metadata": {},
     "output_type": "execute_result"
    }
   ],
   "source": [
    "content"
   ]
  },
  {
   "cell_type": "markdown",
   "id": "c5a2a253-be81-4705-a496-e607aef8efa0",
   "metadata": {},
   "source": [
    "## Feature Engineering"
   ]
  },
  {
   "cell_type": "code",
   "execution_count": 25,
   "id": "e6690526-6aff-4e90-9e1e-c29e638574a5",
   "metadata": {},
   "outputs": [],
   "source": [
    "x= content\n",
    "y=df[\"label\"]"
   ]
  },
  {
   "cell_type": "code",
   "execution_count": 26,
   "id": "86e31875-63a0-4b27-8762-9954fe2f6462",
   "metadata": {},
   "outputs": [],
   "source": [
    "import nltk"
   ]
  },
  {
   "cell_type": "code",
   "execution_count": 27,
   "id": "c25799c6-4178-4616-91b0-d016616afa19",
   "metadata": {},
   "outputs": [
    {
     "name": "stderr",
     "output_type": "stream",
     "text": [
      "[nltk_data] Downloading package stopwords to\n",
      "[nltk_data]     C:\\Users\\PHOENIX\\AppData\\Roaming\\nltk_data...\n",
      "[nltk_data]   Package stopwords is already up-to-date!\n"
     ]
    },
    {
     "data": {
      "text/plain": [
       "True"
      ]
     },
     "execution_count": 27,
     "metadata": {},
     "output_type": "execute_result"
    }
   ],
   "source": [
    "nltk.download(\"stopwords\")"
   ]
  },
  {
   "cell_type": "code",
   "execution_count": 28,
   "id": "df5b9579-3230-41c7-b0e1-4fb6eb094603",
   "metadata": {},
   "outputs": [
    {
     "name": "stdout",
     "output_type": "stream",
     "text": [
      "['i', 'me', 'my', 'myself', 'we', 'our', 'ours', 'ourselves', 'you', \"you're\", \"you've\", \"you'll\", \"you'd\", 'your', 'yours', 'yourself', 'yourselves', 'he', 'him', 'his', 'himself', 'she', \"she's\", 'her', 'hers', 'herself', 'it', \"it's\", 'its', 'itself', 'they', 'them', 'their', 'theirs', 'themselves', 'what', 'which', 'who', 'whom', 'this', 'that', \"that'll\", 'these', 'those', 'am', 'is', 'are', 'was', 'were', 'be', 'been', 'being', 'have', 'has', 'had', 'having', 'do', 'does', 'did', 'doing', 'a', 'an', 'the', 'and', 'but', 'if', 'or', 'because', 'as', 'until', 'while', 'of', 'at', 'by', 'for', 'with', 'about', 'against', 'between', 'into', 'through', 'during', 'before', 'after', 'above', 'below', 'to', 'from', 'up', 'down', 'in', 'out', 'on', 'off', 'over', 'under', 'again', 'further', 'then', 'once', 'here', 'there', 'when', 'where', 'why', 'how', 'all', 'any', 'both', 'each', 'few', 'more', 'most', 'other', 'some', 'such', 'no', 'nor', 'not', 'only', 'own', 'same', 'so', 'than', 'too', 'very', 's', 't', 'can', 'will', 'just', 'don', \"don't\", 'should', \"should've\", 'now', 'd', 'll', 'm', 'o', 're', 've', 'y', 'ain', 'aren', \"aren't\", 'couldn', \"couldn't\", 'didn', \"didn't\", 'doesn', \"doesn't\", 'hadn', \"hadn't\", 'hasn', \"hasn't\", 'haven', \"haven't\", 'isn', \"isn't\", 'ma', 'mightn', \"mightn't\", 'mustn', \"mustn't\", 'needn', \"needn't\", 'shan', \"shan't\", 'shouldn', \"shouldn't\", 'wasn', \"wasn't\", 'weren', \"weren't\", 'won', \"won't\", 'wouldn', \"wouldn't\"]\n"
     ]
    }
   ],
   "source": [
    "print(stopwords.words(\"english\"))"
   ]
  },
  {
   "cell_type": "code",
   "execution_count": 29,
   "id": "77f54b72-c965-4e5f-bea9-8c0ca0e79254",
   "metadata": {},
   "outputs": [],
   "source": [
    "porter_stem= PorterStemmer()"
   ]
  },
  {
   "cell_type": "code",
   "execution_count": 30,
   "id": "ca2c4abd-47d8-466f-a100-dd99aad2f9a0",
   "metadata": {},
   "outputs": [],
   "source": [
    "def stemming(content):\n",
    "    # Remove non-alphabetic characters and replace them with spaces\n",
    "    stemmed_content=re.sub('[^a-zA-Z]',' ', content)\n",
    "    # covert the text to lower case\n",
    "    stemmed_content=stemmed_content.lower()\n",
    "    # split the text into individual words\n",
    "    stemmed_content=stemmed_content.split()\n",
    "    # perform stemming on each word using a stemming algorithm\n",
    "    stemmed_content=[porter_stem.stem(word) for word in stemmed_content if not word in stopwords.words(\"english\")]\n",
    "    # join the stemmed words back into a single string\n",
    "    stemmed_content= \" \".join(stemmed_content)\n",
    "    # return the stemmed content\n",
    "    return stemmed_content"
   ]
  },
  {
   "cell_type": "code",
   "execution_count": null,
   "id": "fbb78459-c6cb-4d80-af1b-e7e0cc56538a",
   "metadata": {},
   "outputs": [],
   "source": [
    "x= x.apply(stemming)"
   ]
  },
  {
   "cell_type": "code",
   "execution_count": 80,
   "id": "7d4930e1-b0cd-4e8b-b44d-475d8851b072",
   "metadata": {},
   "outputs": [],
   "source": [
    "tfidf_vectorizer= TfidfVectorizer(stop_words=\"english\")"
   ]
  },
  {
   "cell_type": "code",
   "execution_count": 81,
   "id": "c6fd8320-41cc-4962-9921-2ab4b3f4f7fa",
   "metadata": {},
   "outputs": [],
   "source": [
    "model= tfidf_vectorizer.fit_transform(x)"
   ]
  },
  {
   "cell_type": "code",
   "execution_count": 82,
   "id": "2ebe78b8-9c20-4950-966f-b9260ebcd11a",
   "metadata": {},
   "outputs": [
    {
     "data": {
      "text/plain": [
       "<72134x244131 sparse matrix of type '<class 'numpy.float64'>'\n",
       "\twith 14114626 stored elements in Compressed Sparse Row format>"
      ]
     },
     "execution_count": 82,
     "metadata": {},
     "output_type": "execute_result"
    }
   ],
   "source": [
    "model"
   ]
  },
  {
   "cell_type": "code",
   "execution_count": 83,
   "id": "5170aa6e-42ea-4f05-a136-638bbce553f5",
   "metadata": {},
   "outputs": [
    {
     "name": "stdout",
     "output_type": "stream",
     "text": [
      "0        LAW ENFORCEMENT ON HIGH ALERT Following Threat...\n",
      "1           Did they post their votes for Hillary already?\n",
      "2        UNBELIEVABLE! OBAMA’S ATTORNEY GENERAL SAYS MO...\n",
      "3        Bobby Jindal, raised Hindu, uses story of Chri...\n",
      "4        SATAN 2: Russia unvelis an image of its terrif...\n",
      "                               ...                        \n",
      "72129    Russians steal research on Trump in hack of U....\n",
      "72130     WATCH: Giuliani Demands That Democrats Apolog...\n",
      "72131    Migrants Refuse To Leave Train At Refugee Camp...\n",
      "72132    Trump tussle gives unpopular Mexican leader mu...\n",
      "72133    Goldman Sachs Endorses Hillary Clinton For Pre...\n",
      "Length: 72134, dtype: object\n"
     ]
    }
   ],
   "source": [
    "print(x)"
   ]
  },
  {
   "cell_type": "code",
   "execution_count": 84,
   "id": "3a171d09-35f1-439c-b523-1a312d941295",
   "metadata": {},
   "outputs": [
    {
     "name": "stdout",
     "output_type": "stream",
     "text": [
      "  (0, 135758)\t0.013090502286751153\n",
      "  (0, 185703)\t0.018820280917057716\n",
      "  (0, 67059)\t0.02101346936420286\n",
      "  (0, 36162)\t0.04756187497559437\n",
      "  (0, 133559)\t0.03692124076047333\n",
      "  (0, 212314)\t0.04418086928888125\n",
      "  (0, 149525)\t0.024600038616467205\n",
      "  (0, 19415)\t0.022878534730813062\n",
      "  (0, 149571)\t0.02927971702118056\n",
      "  (0, 142237)\t0.03572362193056873\n",
      "  (0, 159438)\t0.043802318914474614\n",
      "  (0, 43687)\t0.02768888650006659\n",
      "  (0, 13634)\t0.05797284915269563\n",
      "  (0, 216076)\t0.02076285005137679\n",
      "  (0, 89746)\t0.01626078868521928\n",
      "  (0, 115436)\t0.06741299921497354\n",
      "  (0, 137448)\t0.06741299921497354\n",
      "  (0, 124008)\t0.06741299921497354\n",
      "  (0, 178212)\t0.04193443014012317\n",
      "  (0, 92421)\t0.051150393868900815\n",
      "  (0, 109057)\t0.037152586043446865\n",
      "  (0, 109276)\t0.037906990632699374\n",
      "  (0, 111054)\t0.038062377071206584\n",
      "  (0, 202296)\t0.04028524420556936\n",
      "  (0, 151800)\t0.018232642694925492\n",
      "  :\t:\n",
      "  (72133, 165316)\t0.06814758746308489\n",
      "  (72133, 37452)\t0.039747574400063775\n",
      "  (72133, 154292)\t0.028224092986985333\n",
      "  (72133, 1)\t0.02283311457544415\n",
      "  (72133, 168919)\t0.0261641435713473\n",
      "  (72133, 151883)\t0.04054054552655445\n",
      "  (72133, 154304)\t0.02118683732665475\n",
      "  (72133, 154918)\t0.11278231220721453\n",
      "  (72133, 2872)\t0.020776782831391664\n",
      "  (72133, 90888)\t0.1484899261307398\n",
      "  (72133, 57567)\t0.018318231904529404\n",
      "  (72133, 195589)\t0.035195219720887044\n",
      "  (72133, 166194)\t0.019962318275145247\n",
      "  (72133, 28817)\t0.025942328214572295\n",
      "  (72133, 134886)\t0.02990674651122517\n",
      "  (72133, 104930)\t0.01587060958314869\n",
      "  (72133, 209841)\t0.019273300248412166\n",
      "  (72133, 60327)\t0.019941876214678453\n",
      "  (72133, 152790)\t0.08749048383646801\n",
      "  (72133, 134905)\t0.02894464261079283\n",
      "  (72133, 134884)\t0.04487670104666172\n",
      "  (72133, 184434)\t0.017182141634952464\n",
      "  (72133, 170197)\t0.02253484602042165\n",
      "  (72133, 115867)\t0.016377331892098838\n",
      "  (72133, 148006)\t0.043147895969440825\n"
     ]
    }
   ],
   "source": [
    "print(model)"
   ]
  },
  {
   "cell_type": "markdown",
   "id": "86fd1713-3c87-4ddc-ae90-3eb60a917d3f",
   "metadata": {},
   "source": [
    "## Model Selection"
   ]
  },
  {
   "cell_type": "code",
   "execution_count": 85,
   "id": "201ffa16-cf3c-40fb-9f3c-82c836f3b588",
   "metadata": {},
   "outputs": [],
   "source": [
    "x= model\n",
    "y= df[\"label\"]"
   ]
  },
  {
   "cell_type": "code",
   "execution_count": 86,
   "id": "e11a7d7d-523f-483c-b7b8-251161d3cded",
   "metadata": {},
   "outputs": [],
   "source": [
    "x_train,x_test,y_train,y_test= train_test_split(x,y,stratify=y,test_size=0.1,random_state=2)"
   ]
  },
  {
   "cell_type": "code",
   "execution_count": 87,
   "id": "fa15a665-b7d3-4d78-afd0-d239c00abdc4",
   "metadata": {},
   "outputs": [
    {
     "name": "stdout",
     "output_type": "stream",
     "text": [
      "(72134, 244131) (64920, 244131) (7214, 244131)\n"
     ]
    }
   ],
   "source": [
    "print(x.shape,x_train.shape,x_test.shape)"
   ]
  },
  {
   "cell_type": "markdown",
   "id": "c2a68ad5-3743-4849-83e9-8624602b7bfe",
   "metadata": {},
   "source": [
    "## Model Training"
   ]
  },
  {
   "cell_type": "code",
   "execution_count": 88,
   "id": "7809c8be-032e-453b-850b-cda270fa849c",
   "metadata": {},
   "outputs": [],
   "source": [
    "LR= LogisticRegression()"
   ]
  },
  {
   "cell_type": "code",
   "execution_count": 89,
   "id": "07c40b81-9114-4abb-9507-decca547cd0a",
   "metadata": {},
   "outputs": [
    {
     "data": {
      "text/html": [
       "<style>#sk-container-id-4 {color: black;}#sk-container-id-4 pre{padding: 0;}#sk-container-id-4 div.sk-toggleable {background-color: white;}#sk-container-id-4 label.sk-toggleable__label {cursor: pointer;display: block;width: 100%;margin-bottom: 0;padding: 0.3em;box-sizing: border-box;text-align: center;}#sk-container-id-4 label.sk-toggleable__label-arrow:before {content: \"▸\";float: left;margin-right: 0.25em;color: #696969;}#sk-container-id-4 label.sk-toggleable__label-arrow:hover:before {color: black;}#sk-container-id-4 div.sk-estimator:hover label.sk-toggleable__label-arrow:before {color: black;}#sk-container-id-4 div.sk-toggleable__content {max-height: 0;max-width: 0;overflow: hidden;text-align: left;background-color: #f0f8ff;}#sk-container-id-4 div.sk-toggleable__content pre {margin: 0.2em;color: black;border-radius: 0.25em;background-color: #f0f8ff;}#sk-container-id-4 input.sk-toggleable__control:checked~div.sk-toggleable__content {max-height: 200px;max-width: 100%;overflow: auto;}#sk-container-id-4 input.sk-toggleable__control:checked~label.sk-toggleable__label-arrow:before {content: \"▾\";}#sk-container-id-4 div.sk-estimator input.sk-toggleable__control:checked~label.sk-toggleable__label {background-color: #d4ebff;}#sk-container-id-4 div.sk-label input.sk-toggleable__control:checked~label.sk-toggleable__label {background-color: #d4ebff;}#sk-container-id-4 input.sk-hidden--visually {border: 0;clip: rect(1px 1px 1px 1px);clip: rect(1px, 1px, 1px, 1px);height: 1px;margin: -1px;overflow: hidden;padding: 0;position: absolute;width: 1px;}#sk-container-id-4 div.sk-estimator {font-family: monospace;background-color: #f0f8ff;border: 1px dotted black;border-radius: 0.25em;box-sizing: border-box;margin-bottom: 0.5em;}#sk-container-id-4 div.sk-estimator:hover {background-color: #d4ebff;}#sk-container-id-4 div.sk-parallel-item::after {content: \"\";width: 100%;border-bottom: 1px solid gray;flex-grow: 1;}#sk-container-id-4 div.sk-label:hover label.sk-toggleable__label {background-color: #d4ebff;}#sk-container-id-4 div.sk-serial::before {content: \"\";position: absolute;border-left: 1px solid gray;box-sizing: border-box;top: 0;bottom: 0;left: 50%;z-index: 0;}#sk-container-id-4 div.sk-serial {display: flex;flex-direction: column;align-items: center;background-color: white;padding-right: 0.2em;padding-left: 0.2em;position: relative;}#sk-container-id-4 div.sk-item {position: relative;z-index: 1;}#sk-container-id-4 div.sk-parallel {display: flex;align-items: stretch;justify-content: center;background-color: white;position: relative;}#sk-container-id-4 div.sk-item::before, #sk-container-id-4 div.sk-parallel-item::before {content: \"\";position: absolute;border-left: 1px solid gray;box-sizing: border-box;top: 0;bottom: 0;left: 50%;z-index: -1;}#sk-container-id-4 div.sk-parallel-item {display: flex;flex-direction: column;z-index: 1;position: relative;background-color: white;}#sk-container-id-4 div.sk-parallel-item:first-child::after {align-self: flex-end;width: 50%;}#sk-container-id-4 div.sk-parallel-item:last-child::after {align-self: flex-start;width: 50%;}#sk-container-id-4 div.sk-parallel-item:only-child::after {width: 0;}#sk-container-id-4 div.sk-dashed-wrapped {border: 1px dashed gray;margin: 0 0.4em 0.5em 0.4em;box-sizing: border-box;padding-bottom: 0.4em;background-color: white;}#sk-container-id-4 div.sk-label label {font-family: monospace;font-weight: bold;display: inline-block;line-height: 1.2em;}#sk-container-id-4 div.sk-label-container {text-align: center;}#sk-container-id-4 div.sk-container {/* jupyter's `normalize.less` sets `[hidden] { display: none; }` but bootstrap.min.css set `[hidden] { display: none !important; }` so we also need the `!important` here to be able to override the default hidden behavior on the sphinx rendered scikit-learn.org. See: https://github.com/scikit-learn/scikit-learn/issues/21755 */display: inline-block !important;position: relative;}#sk-container-id-4 div.sk-text-repr-fallback {display: none;}</style><div id=\"sk-container-id-4\" class=\"sk-top-container\"><div class=\"sk-text-repr-fallback\"><pre>LogisticRegression()</pre><b>In a Jupyter environment, please rerun this cell to show the HTML representation or trust the notebook. <br />On GitHub, the HTML representation is unable to render, please try loading this page with nbviewer.org.</b></div><div class=\"sk-container\" hidden><div class=\"sk-item\"><div class=\"sk-estimator sk-toggleable\"><input class=\"sk-toggleable__control sk-hidden--visually\" id=\"sk-estimator-id-4\" type=\"checkbox\" checked><label for=\"sk-estimator-id-4\" class=\"sk-toggleable__label sk-toggleable__label-arrow\">LogisticRegression</label><div class=\"sk-toggleable__content\"><pre>LogisticRegression()</pre></div></div></div></div></div>"
      ],
      "text/plain": [
       "LogisticRegression()"
      ]
     },
     "execution_count": 89,
     "metadata": {},
     "output_type": "execute_result"
    }
   ],
   "source": [
    "LR.fit(x_train,y_train)"
   ]
  },
  {
   "cell_type": "markdown",
   "id": "a218e5c5-39fc-4e3b-8cae-5cdb31c584f8",
   "metadata": {},
   "source": [
    "## Model Evaluation"
   ]
  },
  {
   "cell_type": "code",
   "execution_count": 90,
   "id": "39c81e78-6968-4e93-beab-4431121fd22d",
   "metadata": {},
   "outputs": [],
   "source": [
    "xtrain_predict= LR.predict(x_train)"
   ]
  },
  {
   "cell_type": "code",
   "execution_count": 91,
   "id": "4cb37bc5-91ca-4887-bf86-a1244ba55db4",
   "metadata": {},
   "outputs": [],
   "source": [
    "xtrain_accuracy= accuracy_score(y_train,xtrain_predict)"
   ]
  },
  {
   "cell_type": "code",
   "execution_count": 92,
   "id": "ed9ae9ae-468a-4864-a849-be0cd3b1d875",
   "metadata": {},
   "outputs": [
    {
     "data": {
      "text/plain": [
       "0.9643561306223044"
      ]
     },
     "execution_count": 92,
     "metadata": {},
     "output_type": "execute_result"
    }
   ],
   "source": [
    "xtrain_accuracy"
   ]
  },
  {
   "cell_type": "code",
   "execution_count": 93,
   "id": "ecd51ef3-a7e4-477d-8ce4-0f5a1536f01f",
   "metadata": {},
   "outputs": [],
   "source": [
    "xtest_predict= LR.predict(x_test)"
   ]
  },
  {
   "cell_type": "code",
   "execution_count": 94,
   "id": "aa5b6b99-d199-427e-a3ad-83e38d6b1ce2",
   "metadata": {},
   "outputs": [],
   "source": [
    "xtest_accuracy= accuracy_score(y_test,xtest_predict)"
   ]
  },
  {
   "cell_type": "code",
   "execution_count": 95,
   "id": "2012826f-640b-4ec8-85ee-78cf623cca23",
   "metadata": {},
   "outputs": [
    {
     "data": {
      "text/plain": [
       "0.9503742722484059"
      ]
     },
     "execution_count": 95,
     "metadata": {},
     "output_type": "execute_result"
    }
   ],
   "source": [
    "xtest_accuracy"
   ]
  },
  {
   "cell_type": "code",
   "execution_count": 101,
   "id": "b011793e-2cf3-4877-9df6-668adfc5e5ae",
   "metadata": {},
   "outputs": [
    {
     "ename": "SyntaxError",
     "evalue": "unterminated string literal (detected at line 1) (2384629472.py, line 1)",
     "output_type": "error",
     "traceback": [
      "\u001b[1;36m  Cell \u001b[1;32mIn[101], line 1\u001b[1;36m\u001b[0m\n\u001b[1;33m    input_data=(\"Bobby Jindal, raised Hindu, uses story of Christian conversion to woo evangelicals for potential 2016 bid\",\"A dozen politically active pastors came here for a private dinner Friday night to hear a conversion story unique in the context of presidential politics: how Louisiana Gov. Bobby Jindal traveled from Hinduism to Protestant Christianity and, ultimately, became what he calls an “evangelical Catholic.”)\u001b[0m\n\u001b[1;37m                                                                                                                            ^\u001b[0m\n\u001b[1;31mSyntaxError\u001b[0m\u001b[1;31m:\u001b[0m unterminated string literal (detected at line 1)\n"
     ]
    }
   ],
   "source": [
    "input_data=(\"Bobby Jindal, raised Hindu, uses story of Christian conversion to woo evangelicals for potential 2016 bid\",\"A dozen politically active pastors came here for a private dinner Friday night to hear a conversion story unique in the context of presidential politics: how Louisiana Gov. Bobby Jindal traveled from Hinduism to Protestant Christianity and, ultimately, became what he calls an “evangelical Catholic.”)\n",
    "transform= tfidf_vectorizer.transform(input_data)\n",
    "predict= LR.predict(input_data)\n",
    "print(predict)"
   ]
  },
  {
   "cell_type": "code",
   "execution_count": null,
   "id": "fffaf192-c0db-4b65-83a6-c8eae37af595",
   "metadata": {},
   "outputs": [],
   "source": [
    "transform= tfidf_vectorizer.transform(input_data)"
   ]
  },
  {
   "cell_type": "code",
   "execution_count": null,
   "id": "5878e3e1-c74c-4ced-a35d-f0c780b2fde6",
   "metadata": {},
   "outputs": [],
   "source": []
  }
 ],
 "metadata": {
  "kernelspec": {
   "display_name": "Python 3 (ipykernel)",
   "language": "python",
   "name": "python3"
  },
  "language_info": {
   "codemirror_mode": {
    "name": "ipython",
    "version": 3
   },
   "file_extension": ".py",
   "mimetype": "text/x-python",
   "name": "python",
   "nbconvert_exporter": "python",
   "pygments_lexer": "ipython3",
   "version": "3.12.0"
  }
 },
 "nbformat": 4,
 "nbformat_minor": 5
}
